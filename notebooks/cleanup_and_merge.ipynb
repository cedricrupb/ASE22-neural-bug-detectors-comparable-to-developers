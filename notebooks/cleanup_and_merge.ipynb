{
 "cells": [
  {
   "cell_type": "code",
   "execution_count": 15,
   "metadata": {},
   "outputs": [],
   "source": [
    "import os\n",
    "\n",
    "# Define target directory\n",
    "TARGET_DIR = os.path.join(\".\", \"output\")\n",
    "\n",
    "# Load the data\n",
    "\n",
    "import json\n",
    "\n",
    "path_to_results = '../study/rawresults/test_Results.json'\n",
    "\n",
    "with open(path_to_results, \"r\") as jsonRes:\n",
    "    res = json.load(jsonRes)\n",
    "    jsonRes.close()\n",
    "\n",
    "    # Remove answers after 1646089200000\n",
    "\n",
    "    for ans in res:\n",
    "        if ans['timestamp'] > 1646089200000:\n",
    "            print(\"Removing Entry with ID {}\".format(ans['ID']))\n",
    "            res.remove(ans)\n"
   ]
  },
  {
   "cell_type": "code",
   "execution_count": 16,
   "metadata": {},
   "outputs": [],
   "source": [
    "def answersToAnswerTime(answers):\n",
    "    time = [(v[\"timestamp\"], v) for v in answers]\n",
    "    time.sort()\n",
    "    answerTimes = {}\n",
    "    answerTimes[0] = time[0][1]\n",
    "    for i in range(1, len(time)):\n",
    "        answerTimes[(time[i][0] - time[i-1][0]) / 1000] = time[i][1]\n",
    "    return answerTimes\n"
   ]
  },
  {
   "cell_type": "markdown",
   "metadata": {},
   "source": [
    "Compute Attempts, that were answered in less than 60 seconds\n"
   ]
  },
  {
   "cell_type": "code",
   "execution_count": 17,
   "metadata": {},
   "outputs": [
    {
     "name": "stdout",
     "output_type": "stream",
     "text": [
      "User 4,\t Attempt: 2 \t [18, 19]\n",
      "User 18,\t Attempt: 1 \t [60, 61, 62]\n",
      "User 19,\t Attempt: 1 \t [70, 71, 73, 75, 78]\n",
      "User 21,\t Attempt: 5 \t [221, 222, 223, 224, 225, 226, 227, 228]\n",
      "User 21,\t Attempt: 6 \t [229, 230, 231, 232, 233, 234, 235, 236]\n",
      "User 43,\t Attempt: 1 \t [139]\n",
      "User 42,\t Attempt: 1 \t [143, 148, 150, 152, 153, 154, 155]\n",
      "User 49,\t Attempt: 1 \t [165]\n",
      "User 47,\t Attempt: 1 \t [166, 167, 168, 169, 171, 172, 173]\n",
      "User 51,\t Attempt: 1 \t [188, 189, 190, 191, 192, 193, 194, 195]\n",
      "User 59,\t Attempt: 1 \t [238, 239, 241, 243, 245]\n",
      "User 95,\t Attempt: 2 \t [331, 332, 333, 334, 335, 336, 337, 338]\n",
      "User 102,\t Attempt: 1 \t [363, 364, 365, 366]\n",
      "User 134,\t Attempt: 1 \t [453, 455]\n",
      "User 139,\t Attempt: 1 \t [459, 461]\n",
      "User 140,\t Attempt: 1 \t [462]\n",
      "User 141,\t Attempt: 1 \t [468]\n",
      "User 143,\t Attempt: 1 \t [469]\n",
      "User 167,\t Attempt: 1 \t [526]\n",
      "User 188,\t Attempt: 2 \t [631]\n",
      "User 189,\t Attempt: 1 \t [632, 633, 634, 635, 636, 637]\n",
      "User 204,\t Attempt: 1 \t [686, 687]\n",
      "User 219,\t Attempt: 1 \t [728, 729, 730, 732, 733, 734, 735]\n",
      "User 218,\t Attempt: 1 \t [744, 745, 746, 747, 748]\n",
      "User 221,\t Attempt: 1 \t [749, 750, 751, 752, 753, 754, 755, 756]\n",
      "User 223,\t Attempt: 1 \t [757, 758]\n",
      "User 231,\t Attempt: 1 \t [799, 800]\n",
      "User 233,\t Attempt: 1 \t [809]\n",
      "User 244,\t Attempt: 1 \t [826]\n",
      "User 268,\t Attempt: 1 \t [859, 860, 861, 862, 863, 864]\n",
      "User 293,\t Attempt: 1 \t [937, 938, 939, 940, 941, 942, 943, 944]\n",
      "User 300,\t Attempt: 1 \t [961]\n",
      "User 320,\t Attempt: 1 \t [994]\n",
      "User 360,\t Attempt: 1 \t [1099]\n",
      "User 368,\t Attempt: 1 \t [1116, 1117]\n",
      "User 384,\t Attempt: 1 \t [1150]\n"
     ]
    }
   ],
   "source": [
    "\n",
    "\n",
    "from collections import defaultdict\n",
    "\n",
    "\n",
    "MAX_ATTEMPT = 6\n",
    "MIN_TIME_PER_ATTEMPT = 60\n",
    "\n",
    "# Group Data by participantId id\n",
    "userid_2_answers = defaultdict(list)\n",
    "for ans in res:\n",
    "    userid_2_answers[ans[\"participantId\"]].append(ans)\n",
    "\n",
    "\n",
    "ans_removed_cause_incomplete = 0\n",
    "att_removed_cause_incomplete = 0\n",
    "\n",
    "ans_removed_cause_fast = 0\n",
    "att_removed_cause_fast = 0\n",
    "\n",
    "toRemove = []\n",
    "\n",
    "\n",
    "for userid, answers in userid_2_answers.items():\n",
    "    for i in range(1, MAX_ATTEMPT+1, 1):\n",
    "        answers_for_attempt = [x for x in answers if x[\"attempt\"] == i]\n",
    "        if (len(answers_for_attempt) > 0):\n",
    "            # Not completed\n",
    "            time = answersToAnswerTime(answers_for_attempt)\n",
    "            if len([x for x in time.keys()]) < 8:\n",
    "                ans_removed_cause_incomplete += len([v[\"ID\"]\n",
    "                                                    for k, v in time.items()])\n",
    "                att_removed_cause_incomplete += 1\n",
    "                toRemove.extend(time.values())\n",
    "                print(\"User {},\\t Attempt: {} \\t {}\".format(answers_for_attempt[0][\"participantId\"], i,\n",
    "                                                            [v[\"ID\"] for k, v in time.items()]))\n",
    "\n",
    "            elif sum([x for x in time.keys()]) < MIN_TIME_PER_ATTEMPT:\n",
    "                # To fast\n",
    "                ans_removed_cause_fast += len([v[\"ID\"]\n",
    "                                              for k, v in time.items()])\n",
    "                att_removed_cause_fast += 1\n",
    "                toRemove.extend(time.values())\n",
    "                print(\"User {},\\t Attempt: {} \\t {}\".format(answers_for_attempt[0][\"participantId\"], i,\n",
    "                                                            [v[\"ID\"]\n",
    "                                                                for k, v in time.items()]\n",
    "                                                            ))\n"
   ]
  },
  {
   "cell_type": "code",
   "execution_count": 18,
   "metadata": {},
   "outputs": [
    {
     "name": "stdout",
     "output_type": "stream",
     "text": [
      "Answers removed as attempt is not completed: \t\t\t\t82\n",
      "Attempts removed as attempt is not completed: \t\t\t\t30\n",
      "Answers removed as answer is given faster than 60 seconds: \t48\n",
      "Attempts removed as answer is given faster than 60 seconds: \t6\n"
     ]
    }
   ],
   "source": [
    "print(\"Answers removed as attempt is not completed: \\t\\t\\t\\t{}\".format(\n",
    "    ans_removed_cause_incomplete))\n",
    "print(\"Attempts removed as attempt is not completed: \\t\\t\\t\\t{}\".format(\n",
    "    att_removed_cause_incomplete))\n",
    "print(\"Answers removed as answer is given faster than 60 seconds: \\t{}\".format(\n",
    "    ans_removed_cause_fast))\n",
    "print(\"Attempts removed as answer is given faster than 60 seconds: \\t{}\".format(\n",
    "    att_removed_cause_fast))\n"
   ]
  },
  {
   "cell_type": "code",
   "execution_count": 19,
   "metadata": {},
   "outputs": [
    {
     "name": "stdout",
     "output_type": "stream",
     "text": [
      "Before cleanup: 1146\n",
      "After cleanup: 1016\n"
     ]
    }
   ],
   "source": [
    "# perform cleanup entries:\n",
    "\n",
    "print(\"Before cleanup: {}\".format(len(res)))\n",
    "for r in toRemove:\n",
    "    res.remove(r)\n",
    "print(\"After cleanup: {}\".format(len(res)))\n",
    "\n",
    "if not os.path.exists(TARGET_DIR):\n",
    "    os.makedirs(TARGET_DIR)\n",
    "\n",
    "with open(os.path.join(TARGET_DIR, 'test_Results_cleaned+mintime+fullAtt.json'), 'w') as outfile:\n",
    "    outfile.write(json.dumps(res, indent=4))\n"
   ]
  },
  {
   "cell_type": "code",
   "execution_count": 20,
   "metadata": {},
   "outputs": [],
   "source": [
    "# # Cleanup off survey data\n",
    "# sessionIDs_to_remove = [x['sessionID'] for x in toRemove]\n",
    "# sessionID_to_num_attempts = defaultdict(list)\n",
    "# for x in toRemove:\n",
    "#     sessionID_to_num_attempts[x['sessionID']].append(x[\"attempt\"])\n",
    "# to_remove_form_survey = []\n",
    "\n",
    "# path_to_survey = '../study/rawresults/test_DB_Survey.json'\n",
    "\n",
    "# with open(path_to_survey, \"r\") as jsonRes:\n",
    "#     survey = json.load(jsonRes)\n",
    "#     jsonRes.close()\n",
    "\n",
    "#     for data in survey:\n",
    "#         if data['sessionid'] in sessionIDs_to_remove \\\n",
    "#                 and len(sessionID_to_num_attempts[data['sessionid']]) <= 1:  # Do not remove the survey data if we delete a second, third attempt\n",
    "#             to_remove_form_survey.append(data)\n",
    "\n",
    "#     print(len(survey))\n",
    "#     for d in to_remove_form_survey:\n",
    "#         survey.remove(d)\n",
    "#     print(len(survey))\n",
    "\n",
    "#     with open('../data/test_survey_cleaned.json', 'w') as outfile:\n",
    "#         outfile.write(json.dumps(survey, indent=4))\n"
   ]
  },
  {
   "cell_type": "markdown",
   "metadata": {},
   "source": [
    "Load the data and merge them for later and easier processing\n"
   ]
  },
  {
   "cell_type": "code",
   "execution_count": 21,
   "metadata": {},
   "outputs": [],
   "source": [
    "\n",
    "# Load the data\n",
    "\n",
    "import numpy as np\n",
    "import json\n",
    "import javalang\n",
    "from collections import defaultdict\n",
    "\n",
    "\n",
    "path_to_results = os.path.join(TARGET_DIR, 'test_Results_cleaned+mintime+fullAtt.json')\n",
    "path_to_survey = '../study/rawresults/test_DB_Survey.json'\n",
    "path_to_oracle = '../study/benchmark.jsonl'\n",
    "\n",
    "# Load the answers\n",
    "with open(path_to_results, \"r\") as jsonRes:\n",
    "    res = json.load(jsonRes)\n",
    "    jsonRes.close()\n",
    "\n",
    "# Load the survey data\n",
    "with open(path_to_survey) as jsonSurveyFile:\n",
    "    jsonSurvey = json.load(jsonSurveyFile)\n",
    "    jsonSurveyFile.close()\n",
    "session_id_to_survey = dict()\n",
    "for survey in jsonSurvey:\n",
    "    session_id_to_survey[survey[\"sessionid\"]] = survey\n",
    "\n",
    "\n",
    "# Load the oracle (correct answres)\n",
    "with open(path_to_oracle, 'r') as json_file:\n",
    "    oracle_list = list(json_file)\n",
    "    json_file.close()\n",
    "oracle = dict()\n",
    "for i, json_str in enumerate(oracle_list):\n",
    "    obj = json.loads(json_str)\n",
    "    oracle[i] = obj\n",
    "\n",
    "\n",
    "for answer in res:\n",
    "    # Merge the data with the survey data\n",
    "    survey_data = session_id_to_survey[answer[\"sessionID\"]]\n",
    "    if survey_data is not None:\n",
    "        for key, value in survey_data.items():\n",
    "            if key not in [\"sessionid\", \"id\"]:\n",
    "                answer[key] = value\n",
    "    else:\n",
    "        print(\"Could not load the survey data for element {}\".format(\n",
    "            answer[\"sessionID\"]))\n",
    "\n",
    "    # On the interface, the line number started with 1. In the benchmark, the line number starts with 0.\n",
    "    answer[\"lineNumberOfError\"] -= 1\n",
    "\n",
    "    # Merge with expected output\n",
    "    # Load the expected answer (which is the line number)\n",
    "    expected_answer = oracle[answer[\"ProgrammID\"]][\"line_num\"]\n",
    "    if expected_answer is not None:\n",
    "        answer[\"expectedAnswer\"] =  \\\n",
    "            - 1 if expected_answer < 1 else expected_answer\n",
    "\n",
    "        exceptionIsTrue = np.sign([answer[\"expectedAnswer\"]])[0] >= 1.0\n",
    "        answerIsTrue = np.sign([answer[\"lineNumberOfError\"]])[0] >= 1.0\n",
    "        answer[\"taskSolvedCorrectly\"] = (exceptionIsTrue is answerIsTrue)\n",
    "        answer[\"correctLineNumber\"] = answer[\"taskSolvedCorrectly\"] and (\n",
    "            answer[\"expectedAnswer\"] == answer[\"lineNumberOfError\"])\n",
    "        answer['func_code'] = oracle[answer[\"ProgrammID\"]]['func_code'],\n",
    "        answer['experience'] = session_id_to_survey[answer[\"sessionID\"]]['experience'],\n",
    "        answer['age'] = session_id_to_survey[answer[\"sessionID\"]]['age']\n",
    "        answer['task'] = session_id_to_survey[answer[\"sessionID\"]]['task']\n",
    "    else:\n",
    "        print(\"Could not load the oracle answer for element {}\".format(\n",
    "            answer[\"ID\"]))\n"
   ]
  },
  {
   "cell_type": "code",
   "execution_count": 22,
   "metadata": {},
   "outputs": [],
   "source": [
    "def tokenize(x):\n",
    "    x = x + \" ;\"  # Sometimes this is necessary to perform the parse\n",
    "    tokens = [t.value for t in javalang.tokenizer.tokenize(x)]\n",
    "    return tokens[:-1]\n"
   ]
  },
  {
   "cell_type": "code",
   "execution_count": 23,
   "metadata": {},
   "outputs": [],
   "source": [
    "results_by_user = defaultdict(list)\n",
    "for answer in res:\n",
    "    participant_id = answer['sessionID']\n",
    "    # TODO: i don't know why this is needed but solves the problem of duplicated elements\n",
    "    already_present = False\n",
    "    for data in results_by_user[participant_id]:\n",
    "        if data['ProgrammID'] == answer['ProgrammID']:\n",
    "            already_present = True\n",
    "    if not already_present:\n",
    "        results_by_user[participant_id].append({\n",
    "            \"ProgrammID\": answer['ProgrammID'],\n",
    "            \"lineNumberOfError\": answer['lineNumberOfError'],\n",
    "            \"attempt\": answer['attempt'],\n",
    "            \"expectedAnswer\": answer['expectedAnswer'],\n",
    "            \"taskSolvedCorrectly\": answer['taskSolvedCorrectly'],\n",
    "            \"correctLineNumber\": answer['correctLineNumber'],\n",
    "            \"timestamp\": answer['timestamp'],\n",
    "            \"program\": answer['func_code'][0],\n",
    "            \"exp\": answer['experience'][0],\n",
    "            \"age\": answer['age'],\n",
    "            \"task\": answer['task'],\n",
    "            \"token\": len(tokenize(answer['func_code'][0])),\n",
    "            \"ctx\": answer['ctx'],\n",
    "            \"codebase\": answer['codebase'],\n",
    "            \"team\": answer['team']\n",
    "        })\n"
   ]
  },
  {
   "cell_type": "code",
   "execution_count": 24,
   "metadata": {},
   "outputs": [],
   "source": [
    "with open(os.path.join(TARGET_DIR, 'answers_by_user.json'), 'w') as outfile:\n",
    "    outfile.write(json.dumps(results_by_user, indent=4))\n"
   ]
  },
  {
   "cell_type": "code",
   "execution_count": 25,
   "metadata": {},
   "outputs": [
    {
     "name": "stdout",
     "output_type": "stream",
     "text": [
      "Non-buggy tasks 176\n",
      "Non-buggy tasks 134\n"
     ]
    }
   ],
   "source": [
    "print(\"Non-buggy tasks\",\n",
    "      len([x for x in oracle.values() if x['line_num'] <= 0]))\n",
    "print(\"Non-buggy tasks\",\n",
    "      len([x for x in oracle.values() if x['line_num'] > 0]))\n"
   ]
  }
 ],
 "metadata": {
  "interpreter": {
   "hash": "bd5016c10f238c42cfbc9d9a1fa7407b7b03a324ab6c73dc6eb84613b4484069"
  },
  "kernelspec": {
   "display_name": "Python 3.9.6 64-bit",
   "language": "python",
   "name": "python3"
  },
  "language_info": {
   "codemirror_mode": {
    "name": "ipython",
    "version": 3
   },
   "file_extension": ".py",
   "mimetype": "text/x-python",
   "name": "python",
   "nbconvert_exporter": "python",
   "pygments_lexer": "ipython3",
   "version": "3.8.8"
  },
  "orig_nbformat": 4
 },
 "nbformat": 4,
 "nbformat_minor": 2
}
