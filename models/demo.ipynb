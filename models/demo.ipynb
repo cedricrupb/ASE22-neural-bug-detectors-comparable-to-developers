{
 "cells": [
  {
   "cell_type": "markdown",
   "metadata": {},
   "source": [
    "# Neural bug detectors\n",
    "This accompanying notebook is an interactive demo for the neural bug detectors used in our study. The goal is to localize variable misuse bugs in Java code."
   ]
  },
  {
   "cell_type": "markdown",
   "metadata": {},
   "source": [
    "## Graph Neural Network"
   ]
  },
  {
   "cell_type": "code",
   "execution_count": 1,
   "metadata": {},
   "outputs": [],
   "source": [
    "# Load the pre-trained GNN checkpoint\n",
    "from nbfbaselines import NBFModel\n",
    "\n",
    "gnn_detector = NBFModel.from_pretrained(\"gnn-study-java\")"
   ]
  },
  {
   "cell_type": "markdown",
   "metadata": {},
   "source": [
    "Now, we are ready for the first test. Let's start with a simple example:"
   ]
  },
  {
   "cell_type": "code",
   "execution_count": 2,
   "metadata": {},
   "outputs": [
    {
     "data": {
      "text/plain": [
       "[{'text': 'public int add ( int x , int y ) {\\n     return x + y ;\\n }',\n",
       "  'before': 'x',\n",
       "  'after': 'y',\n",
       "  'prob': 1.0}]"
      ]
     },
     "execution_count": 2,
     "metadata": {},
     "output_type": "execute_result"
    }
   ],
   "source": [
    "# To run the GNN, we simply call the object with the Java code for the analysis\n",
    "\n",
    "gnn_detector(\"\"\"\n",
    "\n",
    "public int add(int x, int y){\n",
    "    return x + x;\n",
    "}\n",
    "\n",
    "\"\"\")"
   ]
  },
  {
   "cell_type": "markdown",
   "metadata": {},
   "source": [
    "If you run the cell above, you will see that the GNN successfully detected that we likely want to use `y` for the addition. It is also very confident that adding `x` with itself unlikely to happen. "
   ]
  },
  {
   "cell_type": "markdown",
   "metadata": {},
   "source": [
    "# Transformer\n",
    "We try now the same for the Transformer bug detector"
   ]
  },
  {
   "cell_type": "code",
   "execution_count": 3,
   "metadata": {},
   "outputs": [],
   "source": [
    "# Load the pre-trained Transformer checkpoint\n",
    "from nbfbaselines import NBFModel\n",
    "\n",
    "transformer_detector = NBFModel.from_pretrained(\"transformer-study-java\")"
   ]
  },
  {
   "cell_type": "markdown",
   "metadata": {},
   "source": [
    "Now, we can run the transformer in a similar way to the GNN"
   ]
  },
  {
   "cell_type": "code",
   "execution_count": 4,
   "metadata": {},
   "outputs": [
    {
     "data": {
      "text/plain": [
       "[{'text': 'public int add ( int x , int y ) {\\n     return x + y ;\\n }',\n",
       "  'before': 'x',\n",
       "  'after': 'y',\n",
       "  'prob': 0.9997006352337359}]"
      ]
     },
     "execution_count": 4,
     "metadata": {},
     "output_type": "execute_result"
    }
   ],
   "source": [
    "# To run the Transformer, we simply call the object with the Java code for the analysis\n",
    "\n",
    "transformer_detector(\"\"\"\n",
    "\n",
    "public int add(int x, int y){\n",
    "    return x + x;\n",
    "}\n",
    "\n",
    "\"\"\")"
   ]
  },
  {
   "cell_type": "markdown",
   "metadata": {},
   "source": [
    "We see that the transformer detects also the same bug."
   ]
  },
  {
   "cell_type": "markdown",
   "metadata": {},
   "source": [
    "## Detecting fixes with code_diff"
   ]
  },
  {
   "cell_type": "code",
   "execution_count": 5,
   "metadata": {},
   "outputs": [
    {
     "name": "stdout",
     "output_type": "stream",
     "text": [
      "Minimal change: x -> y\n",
      "Changed line: 3\n"
     ]
    }
   ],
   "source": [
    "import code_diff\n",
    "\n",
    "detector = gnn_detector\n",
    "\n",
    "buggy_code = \"\"\"\n",
    "\n",
    "public int add(int x, int y){\n",
    "    return x + x;\n",
    "}\n",
    "\n",
    "\"\"\"\n",
    "\n",
    "fixed_code = detector(buggy_code)[0][\"text\"]\n",
    "\n",
    "diff = code_diff.difference(buggy_code, fixed_code, lang = \"java\") # x -> y\n",
    "changed_line = diff.source_ast.position[0][0] # 3\n",
    "\n",
    "print(\"Minimal change: %s\" % str(diff))\n",
    "print(\"Changed line: %d\" % changed_line)"
   ]
  }
 ],
 "metadata": {
  "kernelspec": {
   "display_name": "Python 3.8.8 ('py38')",
   "language": "python",
   "name": "python3"
  },
  "language_info": {
   "codemirror_mode": {
    "name": "ipython",
    "version": 3
   },
   "file_extension": ".py",
   "mimetype": "text/x-python",
   "name": "python",
   "nbconvert_exporter": "python",
   "pygments_lexer": "ipython3",
   "version": "3.8.8"
  },
  "orig_nbformat": 4,
  "vscode": {
   "interpreter": {
    "hash": "1e49e4b1338c536a3b24fc51f719eff5e9bb6f42833c3172f334ab85d121b9a3"
   }
  }
 },
 "nbformat": 4,
 "nbformat_minor": 2
}
